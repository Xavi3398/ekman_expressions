{
 "cells": [
  {
   "cell_type": "markdown",
   "id": "91b4b25a",
   "metadata": {},
   "source": [
    "# Evaluation\n",
    "\n",
    "Evaluate trainings of models ('model_names') on a set of datasets ('dataset_paths'). \n",
    "- Trained model weights loaded from 'models_save_dir'. \n",
    "- Results stored in 'results_dir'."
   ]
  },
  {
   "cell_type": "code",
   "execution_count": 2,
   "id": "a7e6fdc2",
   "metadata": {
    "tags": []
   },
   "outputs": [],
   "source": [
    "import os\n",
    "import numpy as np\n",
    "from tqdm import tqdm\n",
    "import json\n",
    "from matplotlib import pyplot as plt\n",
    "\n",
    "from ekman_expressions.nets import getNetByName\n",
    "from ekman_expressions.test import test_dir, plot_confusion_matrix, save_classification_report"
   ]
  },
  {
   "cell_type": "code",
   "execution_count": 3,
   "id": "7c180c0a",
   "metadata": {
    "tags": []
   },
   "outputs": [],
   "source": [
    "# Models\n",
    "model_names = ['SilNet', 'WeiNet', 'AlexNet', 'SongNet', 'InceptionV3',\n",
    "               'VGG19', 'VGG16', 'ResNet50', 'ResNet101V2', 'Xception',\n",
    "               'MobileNetV3Large', 'EfficientNetV2B0']\n",
    "\n",
    "# Number of k-cross validations and folder where they are located\n",
    "# Alternatively set the paths to the target training and test manually\n",
    "K = 5\n",
    "dataset_paths_root = '../datasets/'\n",
    "dataset_paths_train = []\n",
    "dataset_paths_test = []\n",
    "for i in range(K):\n",
    "    dataset_paths_train.append(dataset_paths_root + 'CV' + str(i+1))\n",
    "    dataset_paths_test.append(dataset_paths_root + 'CV' + str(i+1) + '_test')\n",
    "\n",
    "# Folder where the trained models were saved\n",
    "models_save_dir = '../models'\n",
    "\n",
    "# Folder where to save the evaluation results\n",
    "results_dir = '../results'\n",
    "\n",
    "# Labels of the classes\n",
    "label_names = ['Angry', 'Disgust', 'Fear', 'Happy', 'Sad', 'Surprise']"
   ]
  },
  {
   "cell_type": "markdown",
   "id": "a96940fe",
   "metadata": {},
   "source": [
    "## Test results, Confussion Matrix and Classification report"
   ]
  },
  {
   "cell_type": "code",
   "execution_count": null,
   "id": "a1cbfa2a",
   "metadata": {},
   "outputs": [],
   "source": [
    "# Init progress bar\n",
    "progress = tqdm(total=len(model_names)*len(dataset_paths_train))\n",
    "\n",
    "for model_name in model_names:\n",
    "    for train_path, test_path in zip(dataset_paths_train, dataset_paths_test):\n",
    "        \n",
    "        # Results foder\n",
    "        results_net = os.path.join(results_dir, model_name + '_'\n",
    "                                   + os.path.basename(train_path)\n",
    "                                   + '_results')\n",
    "        if not os.path.exists(results_net):\n",
    "            os.mkdir(results_net)\n",
    "\n",
    "        # Load model\n",
    "        model, img_size = getNetByName(model_name)\n",
    "        model_save_path = os.path.join(\n",
    "            models_save_dir,\n",
    "            model_name + '_' + os.path.basename(train_path) + '_weights.h5')\n",
    "        model.load_weights(model_save_path)\n",
    "\n",
    "        # Test\n",
    "        test_file = os.path.join(results_net, 'test.json')\n",
    "        test_dir(test_path, test_file, model, img_size)\n",
    "\n",
    "        # Plot confusion matrix\n",
    "        cm_path = os.path.join(results_net, 'confusion_matrix.png')\n",
    "        plot_confusion_matrix(test_path, test_file, img_size, label_names, cm_path)\n",
    "\n",
    "        # Save classification report\n",
    "        cr_path = os.path.join(results_net, 'classification_report.json')\n",
    "        save_classification_report(test_path, test_file, img_size, cr_path)\n",
    "\n",
    "        # Update progress\n",
    "        progress.update(1)\n",
    "\n",
    "# Close progress\n",
    "progress.close()"
   ]
  },
  {
   "cell_type": "markdown",
   "id": "2c794c8e",
   "metadata": {},
   "source": [
    "## K-Cross Validation Results"
   ]
  },
  {
   "cell_type": "code",
   "execution_count": 5,
   "id": "13fe8938",
   "metadata": {},
   "outputs": [],
   "source": [
    "cv_means_acc = []\n",
    "cv_means_pre = []\n",
    "cv_means_rec = []\n",
    "cv_means_f1s = []\n",
    "\n",
    "for model_name in model_names:\n",
    "    \n",
    "    reports = []\n",
    "    \n",
    "    for train_path, test_path in zip(dataset_paths_train, dataset_paths_test):\n",
    "        \n",
    "        # Results foder and classification report file\n",
    "        results_net = os.path.join(results_dir, model_name + '_' + os.path.basename(train_path) + '_results')\n",
    "        cr_path = os.path.join(results_net, 'classification_report.json')\n",
    "        \n",
    "        # Load json file\n",
    "        with open(cr_path, 'r') as f:\n",
    "            reports.append(json.load(f))\n",
    "    \n",
    "    # Compute mean between CV test sets\n",
    "    cv_means_acc.append(np.mean([x['accuracy'] for x in reports]))\n",
    "    cv_means_pre.append(np.mean([x['macro avg']['precision'] for x in reports]))\n",
    "    cv_means_rec.append(np.mean([x['macro avg']['recall'] for x in reports]))\n",
    "    cv_means_f1s.append(np.mean([x['macro avg']['f1-score'] for x in reports]))"
   ]
  },
  {
   "cell_type": "code",
   "execution_count": 6,
   "id": "ece5c54a",
   "metadata": {},
   "outputs": [
    {
     "data": {
      "text/plain": [
       "{'SilNet': {'accuracy': 0.818046192263273,\n",
       "  'precision': 0.8187946967608575,\n",
       "  'support': 0.7996563234187959,\n",
       "  'f1-score': 0.8017675348878474},\n",
       " 'WeiNet': {'accuracy': 0.8008199853907323,\n",
       "  'precision': 0.7894557806700837,\n",
       "  'support': 0.7796278055933018,\n",
       "  'f1-score': 0.7799700665828592},\n",
       " 'AlexNet': {'accuracy': 0.8449111764762403,\n",
       "  'precision': 0.8372657905088386,\n",
       "  'support': 0.8319561262401672,\n",
       "  'f1-score': 0.8317623743441779},\n",
       " 'SongNet': {'accuracy': 0.7990163448222148,\n",
       "  'precision': 0.7953446313567606,\n",
       "  'support': 0.7842546465017085,\n",
       "  'f1-score': 0.7846394715807306},\n",
       " 'InceptionV3': {'accuracy': 0.7965079000216901,\n",
       "  'precision': 0.7946615372586308,\n",
       "  'support': 0.7711537580678498,\n",
       "  'f1-score': 0.772245403344509},\n",
       " 'VGG19': {'accuracy': 0.8287991543638731,\n",
       "  'precision': 0.8254929131149593,\n",
       "  'support': 0.8074765997271435,\n",
       "  'f1-score': 0.8109012676807147},\n",
       " 'VGG16': {'accuracy': 0.8423086627920057,\n",
       "  'precision': 0.8403208109277742,\n",
       "  'support': 0.8276763577544038,\n",
       "  'f1-score': 0.8297883027801692},\n",
       " 'ResNet50': {'accuracy': 0.7557787873261567,\n",
       "  'precision': 0.767050330030467,\n",
       "  'support': 0.7437947385581866,\n",
       "  'f1-score': 0.7377848554441171},\n",
       " 'ResNet101V2': {'accuracy': 0.8314722201575366,\n",
       "  'precision': 0.8380457073563328,\n",
       "  'support': 0.8138404564166433,\n",
       "  'f1-score': 0.8164524949739744},\n",
       " 'Xception': {'accuracy': 0.8329793253755966,\n",
       "  'precision': 0.8241327260172191,\n",
       "  'support': 0.8165199237035994,\n",
       "  'f1-score': 0.8160348349263522},\n",
       " 'MobileNetV3Large': {'accuracy': 0.8200620367411515,\n",
       "  'precision': 0.8099477813561279,\n",
       "  'support': 0.8030572210073968,\n",
       "  'f1-score': 0.8034081884764008},\n",
       " 'EfficientNetV2B0': {'accuracy': 0.8132063799551006,\n",
       "  'precision': 0.801845306882359,\n",
       "  'support': 0.7921894593421254,\n",
       "  'f1-score': 0.7924451003935756}}"
      ]
     },
     "execution_count": 6,
     "metadata": {},
     "output_type": "execute_result"
    }
   ],
   "source": [
    "{model_name: {'accuracy': acc, 'precision': pre, 'recall': rec,'f1-score':  f1s} for model_name, acc, pre, rec, f1s in zip(model_names, cv_means_acc, cv_means_pre, cv_means_rec, cv_means_f1s)}"
   ]
  },
  {
   "cell_type": "markdown",
   "id": "2115e066",
   "metadata": {},
   "source": [
    "## Plots"
   ]
  },
  {
   "cell_type": "code",
   "execution_count": 10,
   "id": "3d551325",
   "metadata": {},
   "outputs": [
    {
     "data": {
      "image/png": "[encoded data removed]",
      "text/plain": [
       "<Figure size 720x432 with 1 Axes>"
      ]
     },
     "metadata": {
      "needs_background": "light"
     },
     "output_type": "display_data"
    }
   ],
   "source": [
    "plt.figure(figsize=(10, 6))\n",
    "plt.rc('font', size=16)\n",
    "plt.title('CV mean accuracy by network', fontdict={'fontsize':20})\n",
    "plt.xticks(rotation='vertical')\n",
    "plt.ylabel('Accuracy')\n",
    "plt.ylim(0, 1)\n",
    "for model_name, cv_mean_acc in zip(model_names, cv_means_acc):\n",
    "    bar = plt.bar(model_name, round(cv_mean_acc, 2))\n",
    "    plt.bar_label(bar)\n",
    "plt.show()"
   ]
  },
  {
   "cell_type": "code",
   "execution_count": null,
   "id": "bd12f939",
   "metadata": {},
   "outputs": [],
   "source": [
    "plt.title('CV Mean Precision')\n",
    "plt.xticks(rotation='vertical')\n",
    "plt.ylabel('Precision')\n",
    "plt.ylim(0, 1)\n",
    "for model_name, cv_mean_acc in zip(model_names, cv_means_pre):\n",
    "    bar = plt.bar(model_name, round(cv_mean_acc, 2))\n",
    "    plt.bar_label(bar)\n",
    "plt.show()"
   ]
  },
  {
   "cell_type": "code",
   "execution_count": null,
   "id": "075cd0a0",
   "metadata": {},
   "outputs": [],
   "source": [
    "plt.title('CV Mean Recall')\n",
    "plt.xticks(rotation='vertical')\n",
    "plt.ylabel('Recall')\n",
    "plt.ylim(0, 1)\n",
    "for model_name, cv_mean_acc in zip(model_names, cv_means_rec):\n",
    "    bar = plt.bar(model_name, round(cv_mean_acc, 2))\n",
    "    plt.bar_label(bar)\n",
    "plt.show()"
   ]
  },
  {
   "cell_type": "code",
   "execution_count": null,
   "id": "c8982231",
   "metadata": {},
   "outputs": [],
   "source": [
    "plt.title('CV Mean F1-score')\n",
    "plt.xticks(rotation='vertical')\n",
    "plt.ylabel('F1-score')\n",
    "plt.ylim(0, 1)\n",
    "for model_name, cv_mean_acc in zip(model_names, cv_means_f1s):\n",
    "    bar = plt.bar(model_name, round(cv_mean_acc, 2))\n",
    "    plt.bar_label(bar)\n",
    "plt.show()"
   ]
  }
 ],
 "metadata": {
  "kernelspec": {
   "display_name": "Python 3",
   "language": "python",
   "name": "python3"
  },
  "language_info": {
   "codemirror_mode": {
    "name": "ipython",
    "version": 3
   },
   "file_extension": ".py",
   "mimetype": "text/x-python",
   "name": "python",
   "nbconvert_exporter": "python",
   "pygments_lexer": "ipython3",
   "version": "3.7.10"
  }
 },
 "nbformat": 4,
 "nbformat_minor": 5
}
