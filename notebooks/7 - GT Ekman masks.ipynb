{
 "cells": [
  {
   "cell_type": "markdown",
   "id": "91dadd87",
   "metadata": {},
   "source": [
    "# Compute Ekman GT masks\n",
    "\n",
    "Saves a mask for every expression, representing the important facial regions (in white) according to the work on basic human expressions by Ekman et al."
   ]
  },
  {
   "cell_type": "code",
   "execution_count": 2,
   "id": "f9b2f06b",
   "metadata": {},
   "outputs": [],
   "source": [
    "import os\n",
    "import cv2\n",
    "import dlib\n",
    "\n",
    "from ekman_expressions.ekman_gt import draw_expression"
   ]
  },
  {
   "cell_type": "code",
   "execution_count": 3,
   "id": "93d43c7b",
   "metadata": {},
   "outputs": [],
   "source": [
    "# Folders where the heatmaps are saved\n",
    "heatmaps_gt_dir = '../heatmaps/GROUND_TRUTH'\n",
    "heatmaps_gt_landmarks_dir = '../heatmaps/GROUND_TRUTH_LANDMARKS'\n",
    "\n",
    "# Labels of the classes\n",
    "label_names = ['Anger', 'Disgust', 'Fear', 'Happiness', 'Sadness', 'Surprise']\n",
    "\n",
    "# Path to the predictor file\n",
    "predictor_path = '../resources/shape_predictor_68_face_landmarks.dat'\n",
    "predictor = dlib.shape_predictor(predictor_path)\n",
    "\n",
    "# Dimensions of normalized images\n",
    "norm_width = 224\n",
    "norm_height = 275\n",
    "vertical_space = 25"
   ]
  },
  {
   "cell_type": "markdown",
   "id": "6aff279b",
   "metadata": {},
   "source": [
    "## Thresholds"
   ]
  },
  {
   "cell_type": "markdown",
   "id": "8d480f86",
   "metadata": {},
   "source": [
    "### Compute and save GT for Ekman emotions"
   ]
  },
  {
   "cell_type": "code",
   "execution_count": 53,
   "id": "91dba311",
   "metadata": {},
   "outputs": [],
   "source": [
    "for expression in label_names:\n",
    "    \n",
    "    # Without landmarks\n",
    "    img_expression = draw_expression(predictor, norm_width, norm_height, vertical_space, exp_name=expression, color=(255, 255, 255), show_landmarks=False)\n",
    "    cv2.imwrite(os.path.join(heatmaps_gt_dir, expression + '_gt.png'), img_expression)\n",
    "    \n",
    "    # With landmarks\n",
    "    img_expression = draw_expression(predictor, norm_width, norm_height, vertical_space, exp_name=expression, color=(255, 255, 255), show_landmarks=True)\n",
    "    cv2.imwrite(os.path.join(heatmaps_gt_landmarks_dir, expression + '_gt_landmarks.png'), img_expression)"
   ]
  }
 ],
 "metadata": {
  "kernelspec": {
   "display_name": "Python 3",
   "language": "python",
   "name": "python3"
  },
  "language_info": {
   "codemirror_mode": {
    "name": "ipython",
    "version": 3
   },
   "file_extension": ".py",
   "mimetype": "text/x-python",
   "name": "python",
   "nbconvert_exporter": "python",
   "pygments_lexer": "ipython3",
   "version": "3.7.10"
  },
  "toc-autonumbering": true
 },
 "nbformat": 4,
 "nbformat_minor": 5
}
